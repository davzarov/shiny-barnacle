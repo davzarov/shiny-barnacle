{
 "cells": [
  {
   "cell_type": "code",
   "execution_count": 1,
   "source": [
    "from pathlib import Path\n",
    "\n",
    "import cv2\n",
    "import numpy as np\n",
    "from PIL import Image\n",
    "\n",
    "BASE_DIR = Path.cwd().resolve()\n",
    "SCANS_DIR = BASE_DIR / \"images\"\n",
    "\n",
    "images = [f for f in SCANS_DIR.iterdir() if f.is_file()]"
   ],
   "outputs": [],
   "metadata": {}
  }
 ],
 "metadata": {
  "orig_nbformat": 4,
  "language_info": {
   "name": "python",
   "version": "3.8.10",
   "mimetype": "text/x-python",
   "codemirror_mode": {
    "name": "ipython",
    "version": 3
   },
   "pygments_lexer": "ipython3",
   "nbconvert_exporter": "python",
   "file_extension": ".py"
  },
  "kernelspec": {
   "name": "python3",
   "display_name": "Python 3.8.10 64-bit ('.venv': pipenv)"
  },
  "interpreter": {
   "hash": "80a1fbb27b8216a55aff8d493197fd2b0fab5ee503963196a445b4ab868193e0"
  }
 },
 "nbformat": 4,
 "nbformat_minor": 2
}